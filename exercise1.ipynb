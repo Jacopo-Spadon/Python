{
 "cells": [
  {
   "cell_type": "code",
   "execution_count": 692,
   "metadata": {},
   "outputs": [
    {
     "name": "stdout",
     "output_type": "stream",
     "text": [
      "Jaciopico\n"
     ]
    }
   ],
   "source": [
    "my_name = \"Jaciopico\"\n",
    "tutor_1_name = \"Ottavia\"\n",
    "tutor_2_name = \"Virginia\"\n",
    "student_1_name = \"Killian\"\n",
    "student_2_name = \"Sarah\"\n",
    "print(my_name)"
   ]
  },
  {
   "cell_type": "code",
   "execution_count": 693,
   "metadata": {},
   "outputs": [
    {
     "name": "stdout",
     "output_type": "stream",
     "text": [
      "igr\n"
     ]
    }
   ],
   "source": [
    "julia_age= 21\n",
    "my_age=30\n",
    "if julia_age > my_age:\n",
    "    print(\"ojfes\")\n",
    "elif julia_age == my_age:\n",
    "    print(\"jnd\")\n",
    "else:\n",
    "    print(\"igr\")"
   ]
  },
  {
   "cell_type": "code",
   "execution_count": 694,
   "metadata": {},
   "outputs": [
    {
     "name": "stdout",
     "output_type": "stream",
     "text": [
      "['Jaciopico', 'Killian', 'Ottavia', 'Sarah', 'Virginia']\n",
      "Jaciopico\n",
      "Virginia\n"
     ]
    }
   ],
   "source": [
    "my_list = [my_name, tutor_2_name, tutor_1_name, student_1_name, student_2_name]\n",
    "my_list.sort()\n",
    "print(my_list)\n",
    "print(my_list[0])\n",
    "print(my_list[-1])"
   ]
  },
  {
   "cell_type": "code",
   "execution_count": 695,
   "metadata": {},
   "outputs": [
    {
     "name": "stdout",
     "output_type": "stream",
     "text": [
      "Jaciopico is in da house\n",
      "Killian is in da house\n",
      "Ottavia is in da house\n",
      "Sarah is in da house\n",
      "Virginia is in da house\n"
     ]
    }
   ],
   "source": [
    "for student in my_list:\n",
    "    print(student + \" is in da house\")"
   ]
  },
  {
   "cell_type": "code",
   "execution_count": 696,
   "metadata": {},
   "outputs": [
    {
     "name": "stdout",
     "output_type": "stream",
     "text": [
      "22 consecutive alive years\n",
      "26 consecutive alive years\n",
      "16 consecutive alive years\n",
      "11 consecutive alive years\n",
      "14 consecutive alive years\n",
      "15 consecutive alive years\n",
      "27 consecutive alive years\n",
      "25 consecutive alive years\n",
      "42 consecutive alive years\n",
      "13 consecutive alive years\n",
      "[22, 26, 16, 11, 14, 15, 27, 25, 42, 13]\n"
     ]
    }
   ],
   "source": [
    "customer_year_of_birth = [1999, 1995, 2005, 2010, 2007, 2006, 1994, 1996, 1979, 2008]\n",
    "current_year = 2021\n",
    "customer_age_list = []\n",
    "for customer_year in customer_year_of_birth:\n",
    "    print(current_year - customer_year, \"consecutive alive years\")\n",
    "    \n",
    "    customer_age_list.append(current_year - customer_year)\n",
    "print(customer_age_list)"
   ]
  },
  {
   "cell_type": "code",
   "execution_count": 697,
   "metadata": {},
   "outputs": [
    {
     "name": "stdout",
     "output_type": "stream",
     "text": [
      "22 consecutive alive years\n",
      "26 consecutive alive years\n",
      "16 consecutive alive years\n",
      "11 consecutive alive years\n",
      "14 consecutive alive years\n",
      "15 consecutive alive years\n",
      "27 consecutive alive years\n",
      "25 consecutive alive years\n",
      "42 consecutive alive years\n",
      "13 consecutive alive years\n"
     ]
    }
   ],
   "source": [
    "def calculate_age(customer_year_of_birth):\n",
    "    for customer_year in customer_year_of_birth:\n",
    "        print(current_year - customer_year, \"consecutive alive years\")\n",
    "    \n",
    "    customer_age_list.append(current_year - customer_year)\n",
    "\n",
    "calculate_age(customer_year_of_birth)"
   ]
  },
  {
   "cell_type": "code",
   "execution_count": 698,
   "metadata": {},
   "outputs": [
    {
     "name": "stdout",
     "output_type": "stream",
     "text": [
      "[1979, 1994, 1995, 1996, 1999, 2005, 2006, 2007, 2008, 2010]\n",
      "1979\n",
      "2010\n"
     ]
    }
   ],
   "source": [
    "customer_year_of_birth.sort()\n",
    "descending_customer_year_of_birth= sorted(customer_year_of_birth , reverse=True)\n",
    "print(customer_year_of_birth)\n",
    "print(descending_customer_year_of_birth[-1])\n",
    "print(descending_customer_year_of_birth[0])"
   ]
  },
  {
   "cell_type": "code",
   "execution_count": 699,
   "metadata": {},
   "outputs": [
    {
     "name": "stdout",
     "output_type": "stream",
     "text": [
      "['Amy', 'Ben', 'Bob', 'Emma', 'Etta', 'Jack', 'Lisa', 'Maria', 'Oscar', 'Paul']\n",
      "[{'name': 'Bob', 'year': 1999, 'age': 22}, {'name': 'Jack', 'year': 1995, 'age': 26}, {'name': 'Lisa', 'year': 2005, 'age': 16}, {'name': 'Maria', 'year': 2010, 'age': 11}, {'name': 'Ben', 'year': 2007, 'age': 14}, {'name': 'Emma', 'year': 2006, 'age': 15}, {'name': 'Oscar', 'year': 1994, 'age': 27}, {'name': 'Amy', 'year': 1996, 'age': 25}, {'name': 'Paul', 'year': 1979, 'age': 42}, {'name': 'Etta', 'year': 2008, 'age': 13}]\n",
      "Bob nato il 1999 di anni consecutivi di vita 22\n",
      "Jack nato il 1995 di anni consecutivi di vita 26\n",
      "Lisa nato il 2005 di anni consecutivi di vita 16\n",
      "Maria nato il 2010 di anni consecutivi di vita 11\n",
      "Ben nato il 2007 di anni consecutivi di vita 14\n",
      "Emma nato il 2006 di anni consecutivi di vita 15\n",
      "Oscar nato il 1994 di anni consecutivi di vita 27\n",
      "Amy nato il 1996 di anni consecutivi di vita 25\n",
      "Paul nato il 1979 di anni consecutivi di vita 42\n",
      "Etta nato il 2008 di anni consecutivi di vita 13\n"
     ]
    }
   ],
   "source": [
    "customer_list = [\n",
    "    {\"name\": \"Bob\", \"year\": 1999},\n",
    "    {\"name\": \"Jack\", \"year\": 1995},\n",
    "    {\"name\": \"Lisa\", \"year\": 2005},\n",
    "    {\"name\": \"Maria\", \"year\": 2010},\n",
    "    {\"name\": \"Ben\", \"year\": 2007},\n",
    "    {\"name\": \"Emma\", \"year\": 2006},\n",
    "    {\"name\": \"Oscar\", \"year\": 1994},\n",
    "    {\"name\": \"Amy\", \"year\": 1996},\n",
    "    {\"name\": \"Paul\", \"year\": 1979},\n",
    "    {\"name\": \"Etta\", \"year\": 2008}\n",
    "]\n",
    "customer_name_list = []\n",
    "\n",
    "for customer in customer_list:\n",
    "    customer_name_list.append(customer[\"name\"])\n",
    "\n",
    "customer_name_list.sort()\n",
    "print(customer_name_list)\n",
    "\n",
    "#customer_year_list_2 = []\n",
    "\n",
    "for customer in customer_list:\n",
    "    #print(customer)\n",
    "    customer[\"age\"] = current_year - customer[\"year\"]\n",
    "    #dicti[\"year\"] = customer[\"year\"]\n",
    "    #customer_year_list_2.append(dicti)\n",
    "\n",
    "print(customer_list)\n",
    "\n",
    "\n",
    "\n",
    "for customer in customer_list:\n",
    "    print(customer[\"name\"] + \" nato il \" + str(customer[\"year\"]) + \" di anni consecutivi di vita \" + str(customer[\"age\"]))\n",
    "\n",
    "\n",
    "\n",
    "#customer_year_list_2.sort(key=lambda a: a['year'])"
   ]
  },
  {
   "cell_type": "code",
   "execution_count": 700,
   "metadata": {},
   "outputs": [
    {
     "name": "stdout",
     "output_type": "stream",
     "text": [
      "[9, 11, 12, 13, 14, 20, 23, 24, 25]\n"
     ]
    }
   ],
   "source": [
    "List_ages_exercise_13 = [20, 24, 14, 9, 12, 13, 25, 23, 40, 11]\n",
    "List_ages_exercise_13.sort()\n",
    "\n",
    "del List_ages_exercise_13[0 + -1]\n",
    "\n",
    "print(List_ages_exercise_13)"
   ]
  },
  {
   "cell_type": "code",
   "execution_count": 701,
   "metadata": {},
   "outputs": [
    {
     "name": "stdout",
     "output_type": "stream",
     "text": [
      "[10, 12, 13, 15, 16, 18, 19]\n",
      "[7, 10, 13, 15, 16, 18, 19, 20]\n",
      "[10, 13, 15, 16, 18, 19]\n"
     ]
    }
   ],
   "source": [
    "list_berlin = [15, 13, 16, 18, 19, 10, 12 ]\n",
    "list_munich = [7, 13, 15, 20, 19, 18, 10, 16]\n",
    "\n",
    "list_berlin.sort()\n",
    "list_munich.sort()\n",
    "\n",
    "print(list_berlin)\n",
    "print(list_munich)\n",
    "\n",
    "list_berlin_as_set = set(list_berlin)\n",
    "common_age = list_berlin_as_set.intersection(list_munich)\n",
    "\n",
    "common_age_list = list(common_age)\n",
    "\n",
    "print(common_age_list)"
   ]
  },
  {
   "cell_type": "code",
   "execution_count": 702,
   "metadata": {},
   "outputs": [
    {
     "name": "stdout",
     "output_type": "stream",
     "text": [
      "welcome to cab Virginia Jaciopio!\n",
      "happy coding\n",
      "welcome to cab Gino Panino!\n",
      "happy coding\n"
     ]
    }
   ],
   "source": [
    "def welcome(fname, lname):\n",
    "    print(\"welcome to cab \" + fname + \" \" + lname + \"!\")\n",
    "    print(\"happy coding\")\n",
    "\n",
    "welcome(\"Virginia\", \"Jaciopio\")\n",
    "welcome(\"Gino\", \"Panino\")\n",
    "\n"
   ]
  },
  {
   "cell_type": "code",
   "execution_count": 703,
   "metadata": {},
   "outputs": [
    {
     "name": "stdout",
     "output_type": "stream",
     "text": [
      "welcome evelyn, have a nice day!\n",
      "welcome jost, have a nice day!\n"
     ]
    }
   ],
   "source": [
    "def giovanni(name):\n",
    "    print(\"welcome \" + name + \", have a nice day!\")\n",
    "\n",
    "giovanni(\"evelyn\")\n",
    "giovanni(\"jost\")"
   ]
  },
  {
   "cell_type": "code",
   "execution_count": 704,
   "metadata": {},
   "outputs": [
    {
     "name": "stdout",
     "output_type": "stream",
     "text": [
      "welcome evelyn, have a nice day!\n",
      "welcome jost, have a nice day!\n",
      "welcome jaciopio, have a nice day!\n"
     ]
    }
   ],
   "source": [
    "def giovanni(name_1, name_2, name_3):\n",
    "    print(\"welcome \" + name_1 + \", have a nice day!\")\n",
    "    print(\"welcome \" + name_2 + \", have a nice day!\")\n",
    "    print(\"welcome \" + name_3 + \", have a nice day!\")\n",
    "\n",
    "giovanni(\"evelyn\", \"jost\", \"jaciopio\")"
   ]
  },
  {
   "cell_type": "code",
   "execution_count": 705,
   "metadata": {},
   "outputs": [
    {
     "name": "stdout",
     "output_type": "stream",
     "text": [
      "welcome Jaciopico, have a nice day!\n",
      "welcome Killian, have a nice day!\n",
      "welcome Ottavia, have a nice day!\n",
      "welcome Sarah, have a nice day!\n",
      "welcome Virginia, have a nice day!\n"
     ]
    }
   ],
   "source": [
    "def giovanni(student):\n",
    "    for student in my_list:\n",
    "        print(\"welcome \" + student + \", have a nice day!\")\n",
    "    \n",
    "\n",
    "giovanni(\"student\")"
   ]
  },
  {
   "cell_type": "code",
   "execution_count": 706,
   "metadata": {},
   "outputs": [
    {
     "name": "stdout",
     "output_type": "stream",
     "text": [
      "welcome Bob, have a nice day!\n",
      "welcome Jack, have a nice day!\n",
      "welcome Lisa, have a nice day!\n",
      "welcome Maria, have a nice day!\n",
      "welcome Ben, have a nice day!\n",
      "welcome Emma, have a nice day!\n",
      "welcome Oscar, have a nice day!\n",
      "welcome Amy, have a nice day!\n",
      "welcome Paul, have a nice day!\n",
      "welcome Etta, have a nice day!\n"
     ]
    }
   ],
   "source": [
    "def giovanni(customer):\n",
    "    for customer in customer_list:\n",
    "        print(\"welcome \" + customer[\"name\"] + \", have a nice day!\")\n",
    "    \n",
    "\n",
    "giovanni(\"customer\")"
   ]
  },
  {
   "cell_type": "code",
   "execution_count": 707,
   "metadata": {},
   "outputs": [
    {
     "name": "stdout",
     "output_type": "stream",
     "text": [
      "the result is:  5\n"
     ]
    }
   ],
   "source": [
    "def calculate_sum(number_1, number_2):\n",
    "    total = number_1 + number_2  \n",
    "    return total\n",
    "\n",
    "total_of_sum = calculate_sum(2,3)\n",
    "\n",
    "def cumunicate_sum(total_of_sum):\n",
    "    print(\"the result is: \", total_of_sum)\n",
    "\n",
    "cumunicate_sum(total_of_sum)"
   ]
  },
  {
   "cell_type": "code",
   "execution_count": 708,
   "metadata": {},
   "outputs": [
    {
     "name": "stdout",
     "output_type": "stream",
     "text": [
      "total ammount of letter is: 21\n"
     ]
    }
   ],
   "source": [
    "word_1 = \"wendewundergeschichte\"\n",
    "word_2 = \"precipitevolissimevolmente\" \n",
    "word_3 = \"eierschalensollbruchstellenverursacher\"\n",
    "\n",
    "random_list = [word_1, word_2, word_3]\n",
    "\n",
    "def get_length_1(word_1):\n",
    "    number_of_letters = len(word_1)\n",
    "    return number_of_letters\n",
    "\n",
    "def communicate_nember_of_letters(word_1):\n",
    "    print(\"total ammount of letter is: \" + str(get_length_1(word_1))) \n",
    "\n",
    "communicate_nember_of_letters(word_1)"
   ]
  },
  {
   "cell_type": "code",
   "execution_count": 709,
   "metadata": {},
   "outputs": [
    {
     "name": "stdout",
     "output_type": "stream",
     "text": [
      "total ammount of letter is:  85\n"
     ]
    }
   ],
   "source": [
    "\n",
    "def get_length_2(word_1, word_2, word_3):\n",
    "    grand_total_letters = len(word_1) + len(word_2) + len(word_3)\n",
    "    print(\"total ammount of letter is: \", grand_total_letters)\n",
    "\n",
    "get_length_2(word_1, word_2, word_3)"
   ]
  },
  {
   "cell_type": "code",
   "execution_count": 710,
   "metadata": {},
   "outputs": [
    {
     "name": "stdout",
     "output_type": "stream",
     "text": [
      "sedici orizzontale 3 parole: 21 26 38\n"
     ]
    }
   ],
   "source": [
    "def communicate_nember_of_letters_each_word(word_1, word_2, word_3):\n",
    "    print(\"sedici orizzontale 3 parole:\", len(word_1), len(word_2), len(word_3))\n",
    "\n",
    "communicate_nember_of_letters_each_word(word_1, word_2, word_3)\n",
    " "
   ]
  },
  {
   "cell_type": "code",
   "execution_count": 711,
   "metadata": {},
   "outputs": [
    {
     "name": "stdout",
     "output_type": "stream",
     "text": [
      "9 is not even\n"
     ]
    }
   ],
   "source": [
    "n=9\n",
    "\n",
    "def check_even(n):\n",
    "    if (n%2) == 0:\n",
    "        print(n, \"is even\")\n",
    "    else:\n",
    "        print(n, \"is not even\")\n",
    "\n",
    "\n",
    "check_even(n)"
   ]
  },
  {
   "cell_type": "code",
   "execution_count": 718,
   "metadata": {},
   "outputs": [
    {
     "name": "stdout",
     "output_type": "stream",
     "text": [
      "Given a list of ages as follow: [10, 12, 13, 15, 16, 18, 19] it is True than 10 is in this list\n"
     ]
    }
   ],
   "source": [
    "ctrl_age = 10\n",
    "\n",
    "def age_in_the_customer_age_list(ctrl_age, list_berlin):\n",
    "    # if ctrl_age in list_berlin:\n",
    "    #     print(\"True\")\n",
    "    # else:\n",
    "    #     print(\"Da ist Falzo!!\")\n",
    "    return ctrl_age in list_berlin\n",
    "\n",
    "result_of_age_intersection = age_in_the_customer_age_list(10, [10, 12, 13, 15, 16, 18, 19])\n",
    "\n",
    "def communicate_age_in_the_customer_age_list(result_of_age_intersection):\n",
    "    print(\"Given a list of ages as follow:\", list_berlin, \"it is\", result_of_age_intersection, \"than\", ctrl_age, \"is in this list\")\n",
    "\n",
    "communicate_age_in_the_customer_age_list(result_of_age_intersection)\n"
   ]
  },
  {
   "cell_type": "code",
   "execution_count": 713,
   "metadata": {},
   "outputs": [
    {
     "name": "stdout",
     "output_type": "stream",
     "text": [
      "total ammount of letter is:  21\n"
     ]
    }
   ],
   "source": [
    "def get_length(world_1):\n",
    "    number_of_letters = len(world_1)\n",
    "    return number_of_letters\n",
    "\n",
    "world_1 = get_length(\"wendewundergeschichte\")\n",
    "\n",
    "def communicate_nember_of_letters(world_1):\n",
    "    print(\"total ammount of letter is: \", world_1) \n",
    "\n",
    "communicate_nember_of_letters(world_1)"
   ]
  },
  {
   "cell_type": "code",
   "execution_count": 714,
   "metadata": {},
   "outputs": [],
   "source": [
    "#%reset"
   ]
  }
 ],
 "metadata": {
  "interpreter": {
   "hash": "4ab92f9d484bccba0f50fef4945cfa2ff18621070182d288e11e1b27e8c09bd3"
  },
  "kernelspec": {
   "display_name": "Python 3.8.8 64-bit ('base': conda)",
   "name": "python3"
  },
  "language_info": {
   "codemirror_mode": {
    "name": "ipython",
    "version": 3
   },
   "file_extension": ".py",
   "mimetype": "text/x-python",
   "name": "python",
   "nbconvert_exporter": "python",
   "pygments_lexer": "ipython3",
   "version": "3.8.8"
  },
  "orig_nbformat": 4
 },
 "nbformat": 4,
 "nbformat_minor": 2
}
